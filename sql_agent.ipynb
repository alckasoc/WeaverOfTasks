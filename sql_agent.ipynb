{
 "cells": [
  {
   "cell_type": "code",
   "execution_count": 1,
   "metadata": {},
   "outputs": [],
   "source": [
    "import vanna\n",
    "from vanna.remote import VannaDefault\n",
    "import os\n",
    "import dotenv\n",
    "\n",
    "dotenv.load_dotenv()"
   ]
  },
  {
   "cell_type": "code",
   "execution_count": 2,
   "metadata": {},
   "outputs": [],
   "source": [
    "vanna_model_name = \"alckasoc_mymodel\" # Your model name from https://vanna.ai/account/profile \n",
    "vn = VannaDefault(model=vanna_model_name, api_key=os.getenv(\"VANNA_API_KEY\"))"
   ]
  },
  {
   "cell_type": "code",
   "execution_count": 3,
   "metadata": {},
   "outputs": [],
   "source": [
    "vn.connect_to_sqlite('data/FPA_FOD_20170508.sqlite')"
   ]
  },
  {
   "cell_type": "code",
   "execution_count": 4,
   "metadata": {},
   "outputs": [
    {
     "name": "stdout",
     "output_type": "stream",
     "text": [
      "Question generated with sql: What is the count of fires for each reporting unit? \n",
      "Adding SQL...\n",
      "Question generated with sql: What are the top 30 reporting units by the number of fires reported? \n",
      "Adding SQL...\n",
      "Question generated with sql: What are the details of the top 20 largest fires in terms of size that occurred after 2010? \n",
      "Adding SQL...\n",
      "Question generated with sql: What are the fire sizes and fire years for fires with a size greater than 2000.84, as well as the cause codes and fire years for fires occurring after 2010, limiting the results to 40 records? \n",
      "Adding SQL...\n",
      "Question generated with sql: What is the difference in discovery time between consecutive fire incidents, along with other details like fire size, cause code, and reporting units? \n",
      "Adding SQL...\n",
      "Question generated with sql: What is the average size and shape of fires, along with the total time and number of fires by cause code, initial date, and substate? \n",
      "Adding SQL...\n",
      "Question generated with sql: What is the total fire size for fires that occurred in the year 2005 and were discovered at 16:00? \n",
      "Adding SQL...\n",
      "Question generated with sql: What are the number of new fire incidents, biggest fires, and circulating fires based on specific criteria? \n",
      "Adding SQL...\n",
      "Question generated with sql: What are the reporting unit names and local incident IDs for incidents where the fire size is larger than 0.90 and the fire name contains 'EON'? \n",
      "Adding SQL...\n",
      "Question generated with sql: What are the owner descriptions for fires in the USCAENF reporting unit and the distinct local incident IDs for fires reported by Eldorado National Forest? \n",
      "Adding SQL...\n"
     ]
    }
   ],
   "source": [
    "# Training Data From:\n",
    "# - https://www.kaggle.com/code/katiej277/sqlite-in-python-intro\n",
    "# - https://www.kaggle.com/code/preprocessiing/sqlite3-geospatial-analysis-on-wildfire-data\n",
    "sql_queries = [\n",
    "\"\"\"SELECT SOURCE_REPORTING_UNIT_NAME,count(*) as [count]\n",
    "FROM fires\n",
    "GROUP BY SOURCE_REPORTING_UNIT_NAME\"\"\",\n",
    "\"\"\"SELECT SOURCE_REPORTING_UNIT_NAME,count(*) as [count]\n",
    "FROM fires\n",
    "GROUP BY SOURCE_REPORTING_UNIT_NAME\n",
    "ORDER BY count\n",
    "LIMIT 30;\"\"\",\n",
    "\"\"\" \n",
    "SELECT \n",
    "LOCAL_FIRE_REPORT_ID, \n",
    "DISCOVERY_DATE AS Date, \n",
    "STAT_CAUSE_DESCR AS MainCause, \n",
    "FIRE_YEAR AS Year, \n",
    "FIRE_SIZE \n",
    "FROM fires \n",
    "WHERE FIRE_SIZE  > 1000.00 AND year > 2010\n",
    "ORDER BY FIRE_SIZE \n",
    "LIMIT 20;\"\"\",\n",
    "\"\"\"SELECT FIRE_SIZE, FIRE_YEAR\n",
    "FROM fires \n",
    "WHERE  FIRE_SIZE > 2000.84\n",
    "UNION \n",
    "SELECT STAT_CAUSE_CODE, FIRE_YEAR\n",
    "from fires\n",
    "WHERE FIRE_YEAR > 2010 \n",
    "LIMIT 40;\"\"\",\n",
    "\"\"\"SELECT FIRE_SIZE,\n",
    "DISCOVERY_TIME,\n",
    "STAT_CAUSE_CODE, \n",
    "SOURCE_REPORTING_UNIT, \n",
    "NWCG_REPORTING_UNIT_ID, \n",
    "NWCG_REPORTING_UNIT_NAME, \n",
    "LEAD(DISCOVERY_TIME, 1, 0) OVER (ORDER BY DISCOVERY_TIME) AS DISCOVERY_TIME,\n",
    "LEAD(DISCOVERY_TIME, 1, 0) OVER (ORDER BY DISCOVERY_TIME) - DISCOVERY_TIME AS DISCOVERY_TIME_Diff\n",
    "FROM fires\n",
    "LIMIT 5;\n",
    "\"\"\",\n",
    "\"\"\"SELECT \n",
    "fires.DISCOVERY_TIME AS Time, \n",
    "fires.STAT_CAUSE_CODE AS Cause_Code, \n",
    "count(distinct FIRE_NAME ) AS FireName,\n",
    "count(distinct SOURCE_REPORTING_UNIT_NAME ) AS UnitName,\n",
    "AVG(FIRE_SIZE) AS Fire_Size,  \n",
    "AVG(Shape) AS Fire_Shape, \n",
    "ROUND(AVG(DISCOVERY_TIME)) AS Initial_Date, \n",
    "sum(CONT_TIME) AS Time,\n",
    "sum(COUNTY) AS SubState\n",
    "FROM fires;\"\"\",\n",
    "\"\"\"SELECT \n",
    "SUM(CASE \n",
    "    WHEN FIRE_YEAR IN (2005)\n",
    "    THEN FIRE_SIZE\n",
    "    ELSE 0 END) AS Fire_Id,\n",
    "SUM(CASE\n",
    "    WHEN DISCOVERY_TIME IN (1600)\n",
    "    THEN FIRE_SIZE\n",
    "    ELSE 0 END) AS  Fire_Size\n",
    "FROM fires;\"\"\",\n",
    "\"\"\"SELECT \n",
    "    CASE  \n",
    "    WHEN FIRE_YEAR > 2010 THEN  'New_Fire_Incedient'\n",
    "    WHEN FIRE_SIZE > 0.25 THEN 'Biggest_Fire'\n",
    "    WHEN Shape > 30 AND Shape < 90 THEN 'CirculatingFire'\n",
    "    END AS Fire_Details, \n",
    "    COUNT(DISTINCT FIRE_SIZE) AS Number_Of_Fires\n",
    "    FROM  fires\n",
    "    GROUP BY \n",
    "        CASE\n",
    "        WHEN FIRE_YEAR > 2010 THEN 'NewFireIncedient'\n",
    "        WHEN FIRE_SIZE > 0.25 THEN 'VastFire'\n",
    "        WHEN Shape > 25 AND Shape < 90 THEN 'CirculatingFire'\n",
    "    END;\"\"\",\n",
    "\"\"\"SELECT DISTINCT NWCG_REPORTING_UNIT_NAME, LOCAL_INCIDENT_ID \n",
    "                         FROM fires AS UnitName\n",
    "                         WHERE EXISTS \n",
    "                             (SELECT *\n",
    "                              FROM fires\n",
    "                              WHERE FIRE_SIZE > 0.90 \n",
    "                              AND fires.Fire_name LIKE '%EON%')\n",
    "                              LIMIT 10;\"\"\",\n",
    "\"\"\"SELECT OWNER_DESCR\n",
    "                         FROM fires \n",
    "                         WHERE NWCG_REPORTING_UNIT_ID = 'USCAENF'\n",
    "                         UNION ALL \n",
    "                         SELECT DISTINCT LOCAL_INCIDENT_ID\n",
    "                         FROM fires\n",
    "                         WHERE SOURCE_REPORTING_UNIT_NAME = 'Eldorado National Forest'\n",
    "                         LIMIT 20;\"\"\",\n",
    "]\n",
    "\n",
    "for sql_query in sql_queries:\n",
    "    vn.train(sql=sql_query)"
   ]
  },
  {
   "cell_type": "code",
   "execution_count": 6,
   "metadata": {},
   "outputs": [
    {
     "name": "stdout",
     "output_type": "stream",
     "text": [
      "[{'role': 'system', 'content': 'The user provides a question and you provide SQL. You will only respond with SQL code and not with any explanations.\\n\\nRespond with only SQL code. Do not answer with any explanations -- just the code.\\n\\nYou may use the following documentation as a reference for what tables might be available. Use responses to past questions also to guide you:\\n\\nThis is a SQLite database\\n\\n'}, {'role': 'user', 'content': 'What are the details of the top 20 largest fires in terms of size that occurred after 2010?'}, {'role': 'assistant', 'content': ' \\nSELECT \\nLOCAL_FIRE_REPORT_ID, \\nDISCOVERY_DATE AS Date, \\nSTAT_CAUSE_DESCR AS MainCause, \\nFIRE_YEAR AS Year, \\nFIRE_SIZE \\nFROM fires \\nWHERE FIRE_SIZE  > 1000.00 AND year > 2010\\nORDER BY FIRE_SIZE \\nLIMIT 20;'}, {'role': 'user', 'content': 'What are the fire sizes and fire years for fires with a size greater than 2000.84, as well as the cause codes and fire years for fires occurring after 2010, limiting the results to 40 records?'}, {'role': 'assistant', 'content': 'SELECT FIRE_SIZE, FIRE_YEAR\\nFROM fires \\nWHERE  FIRE_SIZE > 2000.84\\nUNION \\nSELECT STAT_CAUSE_CODE, FIRE_YEAR\\nfrom fires\\nWHERE FIRE_YEAR > 2010 \\nLIMIT 40;'}, {'role': 'user', 'content': 'What are the number of new fire incidents, biggest fires, and circulating fires based on specific criteria?'}, {'role': 'assistant', 'content': \"SELECT \\n    CASE  \\n    WHEN FIRE_YEAR > 2010 THEN  'New_Fire_Incedient'\\n    WHEN FIRE_SIZE > 0.25 THEN 'Biggest_Fire'\\n    WHEN Shape > 30 AND Shape < 90 THEN 'CirculatingFire'\\n    END AS Fire_Details, \\n    COUNT(DISTINCT FIRE_SIZE) AS Number_Of_Fires\\n    FROM  fires\\n    GROUP BY \\n        CASE\\n        WHEN FIRE_YEAR > 2010 THEN 'NewFireIncedient'\\n        WHEN FIRE_SIZE > 0.25 THEN 'VastFire'\\n        WHEN Shape > 25 AND Shape < 90 THEN 'CirculatingFire'\\n    END;\"}, {'role': 'user', 'content': 'What is the total fire size for fires that occurred in the year 2005 and were discovered at 16:00?'}, {'role': 'assistant', 'content': 'SELECT \\nSUM(CASE \\n    WHEN FIRE_YEAR IN (2005)\\n    THEN FIRE_SIZE\\n    ELSE 0 END) AS Fire_Id,\\nSUM(CASE\\n    WHEN DISCOVERY_TIME IN (1600)\\n    THEN FIRE_SIZE\\n    ELSE 0 END) AS  Fire_Size\\nFROM fires;'}, {'role': 'user', 'content': 'What are the top 30 reporting units by the number of fires reported?'}, {'role': 'assistant', 'content': 'SELECT SOURCE_REPORTING_UNIT_NAME,count(*) as [count]\\nFROM fires\\nGROUP BY SOURCE_REPORTING_UNIT_NAME\\nORDER BY count\\nLIMIT 30;'}, {'role': 'user', 'content': 'What is the average size and shape of fires, along with the total time and number of fires by cause code, initial date, and substate?'}, {'role': 'assistant', 'content': 'SELECT \\nfires.DISCOVERY_TIME AS Time, \\nfires.STAT_CAUSE_CODE AS Cause_Code, \\ncount(distinct FIRE_NAME ) AS FireName,\\ncount(distinct SOURCE_REPORTING_UNIT_NAME ) AS UnitName,\\nAVG(FIRE_SIZE) AS Fire_Size,  \\nAVG(Shape) AS Fire_Shape, \\nROUND(AVG(DISCOVERY_TIME)) AS Initial_Date, \\nsum(CONT_TIME) AS Time,\\nsum(COUNTY) AS SubState\\nFROM fires;'}, {'role': 'user', 'content': 'What is the count of fires for each reporting unit?'}, {'role': 'assistant', 'content': 'SELECT SOURCE_REPORTING_UNIT_NAME,count(*) as [count]\\nFROM fires\\nGROUP BY SOURCE_REPORTING_UNIT_NAME'}, {'role': 'user', 'content': 'What is the difference in discovery time between consecutive fire incidents, along with other details like fire size, cause code, and reporting units?'}, {'role': 'assistant', 'content': 'SELECT FIRE_SIZE,\\nDISCOVERY_TIME,\\nSTAT_CAUSE_CODE, \\nSOURCE_REPORTING_UNIT, \\nNWCG_REPORTING_UNIT_ID, \\nNWCG_REPORTING_UNIT_NAME, \\nLEAD(DISCOVERY_TIME, 1, 0) OVER (ORDER BY DISCOVERY_TIME) AS DISCOVERY_TIME,\\nLEAD(DISCOVERY_TIME, 1, 0) OVER (ORDER BY DISCOVERY_TIME) - DISCOVERY_TIME AS DISCOVERY_TIME_Diff\\nFROM fires\\nLIMIT 5;\\n'}, {'role': 'user', 'content': 'What are the owner descriptions for fires in the USCAENF reporting unit and the distinct local incident IDs for fires reported by Eldorado National Forest?'}, {'role': 'assistant', 'content': \"SELECT OWNER_DESCR\\n                         FROM fires \\n                         WHERE NWCG_REPORTING_UNIT_ID = 'USCAENF'\\n                         UNION ALL \\n                         SELECT DISTINCT LOCAL_INCIDENT_ID\\n                         FROM fires\\n                         WHERE SOURCE_REPORTING_UNIT_NAME = 'Eldorado National Forest'\\n                         LIMIT 20;\"}, {'role': 'user', 'content': \"What are the reporting unit names and local incident IDs for incidents where the fire size is larger than 0.90 and the fire name contains 'EON'?\"}, {'role': 'assistant', 'content': \"SELECT DISTINCT NWCG_REPORTING_UNIT_NAME, LOCAL_INCIDENT_ID \\n                         FROM fires AS UnitName\\n                         WHERE EXISTS \\n                             (SELECT *\\n                              FROM fires\\n                              WHERE FIRE_SIZE > 0.90 \\n                              AND fires.Fire_name LIKE '%EON%')\\n                              LIMIT 10;\"}, {'role': 'user', 'content': 'Which year had the most fires?'}]\n",
      "SELECT FIRE_YEAR\n",
      "FROM fires\n",
      "GROUP BY FIRE_YEAR\n",
      "ORDER BY COUNT(*) DESC\n",
      "LIMIT 1;\n",
      "Output from LLM: SELECT FIRE_YEAR\n",
      "FROM fires\n",
      "GROUP BY FIRE_YEAR\n",
      "ORDER BY COUNT(*) DESC\n",
      "LIMIT 1; \n",
      "Extracted SQL: SELECT FIRE_YEAR\n",
      "FROM fires\n",
      "GROUP BY FIRE_YEAR\n",
      "ORDER BY COUNT(*) DESC\n",
      "LIMIT 1;\n",
      "SELECT FIRE_YEAR\n",
      "FROM fires\n",
      "GROUP BY FIRE_YEAR\n",
      "ORDER BY COUNT(*) DESC\n",
      "LIMIT 1;\n",
      "   FIRE_YEAR\n",
      "0       2006\n"
     ]
    },
    {
     "ename": "",
     "evalue": "",
     "output_type": "error",
     "traceback": [
      "\u001b[1;31mThe Kernel crashed while executing code in the current cell or a previous cell. \n",
      "\u001b[1;31mPlease review the code in the cell(s) to identify a possible cause of the failure. \n",
      "\u001b[1;31mClick <a href='https://aka.ms/vscodeJupyterKernelCrash'>here</a> for more info. \n",
      "\u001b[1;31mView Jupyter <a href='command:jupyter.viewOutput'>log</a> for further details."
     ]
    }
   ],
   "source": [
    "vn.ask(\"Which year had the most fires?\")"
   ]
  },
  {
   "cell_type": "code",
   "execution_count": null,
   "metadata": {},
   "outputs": [],
   "source": []
  }
 ],
 "metadata": {
  "kernelspec": {
   "display_name": "taskweaver",
   "language": "python",
   "name": "python3"
  },
  "language_info": {
   "codemirror_mode": {
    "name": "ipython",
    "version": 3
   },
   "file_extension": ".py",
   "mimetype": "text/x-python",
   "name": "python",
   "nbconvert_exporter": "python",
   "pygments_lexer": "ipython3",
   "version": "3.10.14"
  }
 },
 "nbformat": 4,
 "nbformat_minor": 2
}
